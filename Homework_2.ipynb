{
  "cells": [
    {
      "cell_type": "markdown",
      "metadata": {
        "id": "view-in-github",
        "colab_type": "text"
      },
      "source": [
        "<a href=\"https://colab.research.google.com/github/NikolaevaEV/PDA_SOL/blob/main/Homework_2.ipynb\" target=\"_parent\"><img src=\"https://colab.research.google.com/assets/colab-badge.svg\" alt=\"Open In Colab\"/></a>"
      ]
    },
    {
      "cell_type": "markdown",
      "metadata": {
        "id": "w04F1snZUmGD"
      },
      "source": [
        "# Самостоятельная работа 2. Numpy\n",
        "\n",
        "1. Скачайте этот ноутбук к себе.\n",
        "2. Заполните пропущенные ячейки, отвечая на заданные вопросы. Там должен быть код! (если не сказано обратное)\n",
        "3. Сохраните результат в своём гитхаб репозитории.\n",
        "\n",
        "#### Полезная литература\n",
        "\n",
        "- http://www.numpy.org/\n",
        "- https://jakevdp.github.io/PythonDataScienceHandbook/02.00-introduction-to-numpy.html\n",
        "- https://docs.scipy.org/doc/numpy/user/quickstart.html"
      ]
    },
    {
      "cell_type": "markdown",
      "metadata": {
        "id": "1VppSInQUmGM"
      },
      "source": [
        "1) Импортировать numpy и написать версию"
      ]
    },
    {
      "cell_type": "code",
      "execution_count": 2,
      "metadata": {
        "colab": {
          "base_uri": "https://localhost:8080/"
        },
        "id": "N3odHwLeUmGN",
        "outputId": "a7cf05ea-bf2d-4861-92f5-abe2ac7e7196"
      },
      "outputs": [
        {
          "output_type": "stream",
          "name": "stdout",
          "text": [
            "1.23.5\n"
          ]
        }
      ],
      "source": [
        "import numpy as np\n",
        "print (np.__version__)\n"
      ]
    },
    {
      "cell_type": "markdown",
      "metadata": {
        "id": "0C8-LcpMUmGO"
      },
      "source": [
        "2) Создать нулевой вектор размера 10"
      ]
    },
    {
      "cell_type": "code",
      "execution_count": 3,
      "metadata": {
        "colab": {
          "base_uri": "https://localhost:8080/"
        },
        "id": "ENGgb08sUmGP",
        "outputId": "2c99c96f-2fb9-4e42-a3ee-840772cc3675"
      },
      "outputs": [
        {
          "output_type": "stream",
          "name": "stdout",
          "text": [
            "[0. 0. 0. 0. 0. 0. 0. 0. 0. 0.]\n"
          ]
        }
      ],
      "source": [
        "print (np.zeros(10))"
      ]
    },
    {
      "cell_type": "markdown",
      "metadata": {
        "id": "5-v2sTK0UmGP"
      },
      "source": [
        "3) Создать вектор заполненный 7-ами размера 7"
      ]
    },
    {
      "cell_type": "code",
      "execution_count": 4,
      "metadata": {
        "colab": {
          "base_uri": "https://localhost:8080/"
        },
        "id": "4FlMCb7PUmGQ",
        "outputId": "c969e015-c948-4cd5-e4c7-5c1d9841a810"
      },
      "outputs": [
        {
          "output_type": "stream",
          "name": "stdout",
          "text": [
            "[7 7 7 7 7 7 7]\n"
          ]
        }
      ],
      "source": [
        "print (np.full((7),7))"
      ]
    },
    {
      "cell_type": "markdown",
      "metadata": {
        "id": "UfC3D6YVUmGQ"
      },
      "source": [
        "4) Создать вектор заполненный четными числами от 10 до 100"
      ]
    },
    {
      "cell_type": "code",
      "execution_count": 88,
      "metadata": {
        "colab": {
          "base_uri": "https://localhost:8080/"
        },
        "id": "YhXQNYzTUmGR",
        "outputId": "e539f65b-ae12-46c1-b29a-db3d0432db95"
      },
      "outputs": [
        {
          "output_type": "stream",
          "name": "stdout",
          "text": [
            "[ 10  12  14  16  18  20  22  24  26  28  30  32  34  36  38  40  42  44\n",
            "  46  48  50  52  54  56  58  60  62  64  66  68  70  72  74  76  78  80\n",
            "  82  84  86  88  90  92  94  96  98 100]\n"
          ]
        }
      ],
      "source": [
        "print (np.arange(10,102,2))"
      ]
    },
    {
      "cell_type": "markdown",
      "metadata": {
        "id": "gW5paNOXUmGR"
      },
      "source": [
        "5) Создать массив случайных чисел и развернуть его задом наперёд"
      ]
    },
    {
      "cell_type": "code",
      "execution_count": 6,
      "metadata": {
        "colab": {
          "base_uri": "https://localhost:8080/"
        },
        "id": "WqpmC4jcUmGR",
        "outputId": "d6379f7b-fa17-4f02-c685-a4af6c66948d"
      },
      "outputs": [
        {
          "output_type": "stream",
          "name": "stdout",
          "text": [
            "[36 51 25 39 58 38 83 54 12 48]\n",
            "[48 12 54 83 38 58 39 25 51 36]\n"
          ]
        }
      ],
      "source": [
        "a = np.random.randint(0,100,10)\n",
        "b = a[::-1]\n",
        "print (a)\n",
        "print (b)"
      ]
    },
    {
      "cell_type": "markdown",
      "metadata": {
        "id": "iRnXMkAMUmGR"
      },
      "source": [
        "6) Создать двумерную матрицу размера 3 на 3, заполненную числами от 0 до 9"
      ]
    },
    {
      "cell_type": "code",
      "execution_count": 7,
      "metadata": {
        "colab": {
          "base_uri": "https://localhost:8080/"
        },
        "id": "nhi_KKhWUmGS",
        "outputId": "3b4ec6ed-79a9-4769-ce58-6eb1cd739cee"
      },
      "outputs": [
        {
          "output_type": "stream",
          "name": "stdout",
          "text": [
            "[[0 1 2]\n",
            " [3 4 5]\n",
            " [6 7 8]]\n"
          ]
        }
      ],
      "source": [
        "print (np.arange(9).reshape(3,3))"
      ]
    },
    {
      "cell_type": "markdown",
      "metadata": {
        "id": "u2qQlmN3UmGS"
      },
      "source": [
        "7) Создать матрицу размера 4 на 4 с единицами на диагонали смещеной на один наверх."
      ]
    },
    {
      "cell_type": "code",
      "execution_count": 74,
      "metadata": {
        "id": "e8BHNK0cUmGS",
        "colab": {
          "base_uri": "https://localhost:8080/"
        },
        "outputId": "f3e8db29-f059-456b-af00-883513d6dbc6"
      },
      "outputs": [
        {
          "output_type": "stream",
          "name": "stdout",
          "text": [
            "[[0. 1. 0. 0.]\n",
            " [0. 0. 1. 0.]\n",
            " [0. 0. 0. 1.]\n",
            " [0. 0. 0. 0.]]\n"
          ]
        }
      ],
      "source": [
        "print (np.eye(4,4, k=1))"
      ]
    },
    {
      "cell_type": "markdown",
      "metadata": {
        "id": "57ODmB7fUmGS"
      },
      "source": [
        "8) Создать матрицу с числами в диапазоне от 1 до 4 по диагонали. В других ячейках матрицы должны быть семерки."
      ]
    },
    {
      "cell_type": "code",
      "execution_count": 45,
      "metadata": {
        "id": "gnh9uso0UmGT",
        "colab": {
          "base_uri": "https://localhost:8080/"
        },
        "outputId": "10dd48b8-2a30-4277-8f49-7771d8064195"
      },
      "outputs": [
        {
          "output_type": "stream",
          "name": "stdout",
          "text": [
            "[[1 7 7 7]\n",
            " [7 2 7 7]\n",
            " [7 7 3 7]\n",
            " [7 7 7 4]]\n"
          ]
        }
      ],
      "source": [
        "a = np.diag(range(1,5))\n",
        "a [a == 0] = 7\n",
        "print (a)"
      ]
    },
    {
      "cell_type": "markdown",
      "metadata": {
        "id": "vAJBWrIGUmGT"
      },
      "source": [
        "9) Создать матрицу размера 5 на 5 заполненную чилами от 0 до 4 в строках."
      ]
    },
    {
      "cell_type": "code",
      "execution_count": 60,
      "metadata": {
        "id": "JwFavITfUmGT",
        "colab": {
          "base_uri": "https://localhost:8080/"
        },
        "outputId": "ef8c5d85-1478-4902-8859-72dd5a8089c1"
      },
      "outputs": [
        {
          "output_type": "stream",
          "name": "stdout",
          "text": [
            "[[0 1 2 3 4]\n",
            " [0 1 2 3 4]\n",
            " [0 1 2 3 4]\n",
            " [0 1 2 3 4]\n",
            " [0 1 2 3 4]]\n"
          ]
        }
      ],
      "source": [
        "print (np.array(list(range(5)) * 5).reshape(5,5))"
      ]
    },
    {
      "cell_type": "markdown",
      "metadata": {
        "id": "WcW5pP4DUmGT"
      },
      "source": [
        "10) Создать матрицу случайных чисел размера 10 на 10 и отнять среднее по строкам из каждого элемента строки"
      ]
    },
    {
      "cell_type": "code",
      "execution_count": 76,
      "metadata": {
        "id": "LbxWpAuRUmGU",
        "colab": {
          "base_uri": "https://localhost:8080/"
        },
        "outputId": "cf86138c-29c1-453f-84ae-e7042a3e7519"
      },
      "outputs": [
        {
          "output_type": "stream",
          "name": "stdout",
          "text": [
            "[[8 4 1 2 8 2 5 2 0 0]\n",
            " [7 1 8 1 6 0 5 5 9 8]\n",
            " [8 2 5 9 8 7 5 8 2 7]\n",
            " [2 0 4 3 2 2 9 5 2 5]\n",
            " [5 1 2 2 8 2 1 0 3 4]\n",
            " [5 0 6 4 9 5 2 7 8 0]\n",
            " [2 6 0 1 9 6 4 6 4 7]\n",
            " [4 1 9 9 2 3 4 2 7 7]\n",
            " [2 7 8 6 1 4 8 0 3 3]\n",
            " [7 2 6 1 3 8 0 0 9 8]]\n",
            "[[ 4.8  0.8 -2.2 -1.2  4.8 -1.2  1.8 -1.2 -3.2 -3.2]\n",
            " [ 2.  -4.   3.  -4.   1.  -5.   0.   0.   4.   3. ]\n",
            " [ 1.9 -4.1 -1.1  2.9  1.9  0.9 -1.1  1.9 -4.1  0.9]\n",
            " [-1.4 -3.4  0.6 -0.4 -1.4 -1.4  5.6  1.6 -1.4  1.6]\n",
            " [ 2.2 -1.8 -0.8 -0.8  5.2 -0.8 -1.8 -2.8  0.2  1.2]\n",
            " [ 0.4 -4.6  1.4 -0.6  4.4  0.4 -2.6  2.4  3.4 -4.6]\n",
            " [-2.5  1.5 -4.5 -3.5  4.5  1.5 -0.5  1.5 -0.5  2.5]\n",
            " [-0.8 -3.8  4.2  4.2 -2.8 -1.8 -0.8 -2.8  2.2  2.2]\n",
            " [-2.2  2.8  3.8  1.8 -3.2 -0.2  3.8 -4.2 -1.2 -1.2]\n",
            " [ 2.6 -2.4  1.6 -3.4 -1.4  3.6 -4.4 -4.4  4.6  3.6]]\n"
          ]
        }
      ],
      "source": [
        "a = np.random.randint(10, size = (10, 10))\n",
        "b = a - a.mean(axis = 1, keepdims = True)\n",
        "print (a)\n",
        "print (b)"
      ]
    },
    {
      "cell_type": "markdown",
      "metadata": {
        "id": "zBa5oGXhUmGU"
      },
      "source": [
        "11) Создать матрицу случайных чисел размера 10 на 10 и отнять медиану по столбцам из каждого элемента столбца  "
      ]
    },
    {
      "cell_type": "code",
      "execution_count": 77,
      "metadata": {
        "id": "4Su6QRAgUmGU",
        "colab": {
          "base_uri": "https://localhost:8080/"
        },
        "outputId": "5bc4441b-679d-4e08-80a1-9ee3990986de"
      },
      "outputs": [
        {
          "output_type": "stream",
          "name": "stdout",
          "text": [
            "[[7 8 7 2 4 5 5 7 5 9]\n",
            " [3 6 2 3 8 1 7 6 6 8]\n",
            " [5 0 8 6 5 4 7 6 4 3]\n",
            " [0 0 2 8 9 9 7 8 1 1]\n",
            " [1 5 7 6 3 3 7 8 2 0]\n",
            " [2 7 1 3 8 1 8 1 3 5]\n",
            " [2 4 3 1 1 0 5 8 4 4]\n",
            " [1 2 8 3 9 8 6 7 9 1]\n",
            " [9 9 7 9 3 4 1 6 7 4]\n",
            " [6 7 8 4 4 0 5 3 4 6]]\n",
            "[[ 4.5  2.5  0.  -1.5 -0.5  1.5 -1.5  0.5  1.   5. ]\n",
            " [ 0.5  0.5 -5.  -0.5  3.5 -2.5  0.5 -0.5  2.   4. ]\n",
            " [ 2.5 -5.5  1.   2.5  0.5  0.5  0.5 -0.5  0.  -1. ]\n",
            " [-2.5 -5.5 -5.   4.5  4.5  5.5  0.5  1.5 -3.  -3. ]\n",
            " [-1.5 -0.5  0.   2.5 -1.5 -0.5  0.5  1.5 -2.  -4. ]\n",
            " [-0.5  1.5 -6.  -0.5  3.5 -2.5  1.5 -5.5 -1.   1. ]\n",
            " [-0.5 -1.5 -4.  -2.5 -3.5 -3.5 -1.5  1.5  0.   0. ]\n",
            " [-1.5 -3.5  1.  -0.5  4.5  4.5 -0.5  0.5  5.  -3. ]\n",
            " [ 6.5  3.5  0.   5.5 -1.5  0.5 -5.5 -0.5  3.   0. ]\n",
            " [ 3.5  1.5  1.   0.5 -0.5 -3.5 -1.5 -3.5  0.   2. ]]\n"
          ]
        }
      ],
      "source": [
        "a = np.random.randint(10, size = (10,10))\n",
        "b = a - np.median(a, axis = 0, keepdims = True)\n",
        "print (a)\n",
        "print (b)"
      ]
    },
    {
      "cell_type": "markdown",
      "metadata": {
        "id": "Wui4NgbtUmGU"
      },
      "source": [
        "12) Создать матрицу случайных чисел 5x5. Добавить к ней столбецы максимумов и минимумов по строкам. Получится матрица 5x7.  "
      ]
    },
    {
      "cell_type": "code",
      "execution_count": 78,
      "metadata": {
        "id": "hIVMSLDoUmGU",
        "colab": {
          "base_uri": "https://localhost:8080/"
        },
        "outputId": "3fc6144a-24ab-4512-a03e-b3284fd8b927"
      },
      "outputs": [
        {
          "output_type": "stream",
          "name": "stdout",
          "text": [
            "[[0 3 0 2 6 6 0]\n",
            " [8 4 3 1 3 8 1]\n",
            " [4 5 9 3 1 9 1]\n",
            " [8 1 3 1 7 8 1]\n",
            " [7 4 1 1 9 9 1]]\n"
          ]
        }
      ],
      "source": [
        "a = np.random.randint(10, size = (5,5))\n",
        "a.max(axis = 1, keepdims = True)\n",
        "a.min(axis = 1, keepdims = True)\n",
        "print (np.concatenate((a, a.max(axis = 1, keepdims = True),a.min(axis = 1, keepdims = True)),axis = 1))"
      ]
    },
    {
      "cell_type": "markdown",
      "metadata": {
        "id": "BQ3pb_9HUmGU"
      },
      "source": [
        "13) Вектор чисел от 1 до 51 преобразовать в вектор нечетных чисел и в вектор четных чисел, поменять их размерности, чтобы получились две матрица. Найти произведение этих матриц. Найти обратную матрицу эётого произведения.  "
      ]
    },
    {
      "cell_type": "code",
      "execution_count": 85,
      "metadata": {
        "id": "YU54S0kYUmGV",
        "colab": {
          "base_uri": "https://localhost:8080/"
        },
        "outputId": "5b0a6bba-1af5-46ec-d62a-52665dbd66b9"
      },
      "outputs": [
        {
          "output_type": "stream",
          "name": "stdout",
          "text": [
            "[[ 2  4  6  8 10 12]\n",
            " [14 16 18 20 22 24]\n",
            " [26 28 30 32 34 36]\n",
            " [38 40 42 44 46 48]]\n",
            "[[ 3  5  7  9]\n",
            " [11 13 15 17]\n",
            " [19 21 23 25]\n",
            " [27 29 31 33]\n",
            " [35 37 39 41]\n",
            " [43 45 47 49]]\n",
            "[[1246 1330 1414 1498]\n",
            " [2902 3130 3358 3586]\n",
            " [4558 4930 5302 5674]\n",
            " [6214 6730 7246 7762]]\n",
            "[[-3.66503876e+11  3.21853878e-04  1.09951163e+12 -7.33007752e+11]\n",
            " [-7.33007752e+11  2.19902326e+12 -2.19902326e+12  7.33007752e+11]\n",
            " [ 2.56552713e+12 -4.39804651e+12  1.09951163e+12  7.33007752e+11]\n",
            " [-1.46601550e+12  2.19902326e+12  0.00000000e+00 -7.33007752e+11]]\n"
          ]
        }
      ],
      "source": [
        "a = np.mat(np.arange(1,50)[1::2]).reshape(4,6)\n",
        "b = np.mat(np.arange(1,50)[2::2]).reshape(6,4)\n",
        "print (a)\n",
        "print (b)\n",
        "print (a*b)\n",
        "print(np.linalg.inv(a*b))"
      ]
    },
    {
      "cell_type": "markdown",
      "metadata": {
        "id": "2jDwHZgOUmGV"
      },
      "source": [
        "14) Создать 8x8 матрицу и заполнить её в шахматном порядке нулями и единицами."
      ]
    },
    {
      "cell_type": "code",
      "execution_count": 86,
      "metadata": {
        "id": "IgFfJI3UUmGV",
        "colab": {
          "base_uri": "https://localhost:8080/"
        },
        "outputId": "98499f4a-23b5-4e1f-a9a5-0855092033e9"
      },
      "outputs": [
        {
          "output_type": "stream",
          "name": "stdout",
          "text": [
            "[[0 1 0 1 0 1 0 1]\n",
            " [1 0 1 0 1 0 1 0]\n",
            " [0 1 0 1 0 1 0 1]\n",
            " [1 0 1 0 1 0 1 0]\n",
            " [0 1 0 1 0 1 0 1]\n",
            " [1 0 1 0 1 0 1 0]\n",
            " [0 1 0 1 0 1 0 1]\n",
            " [1 0 1 0 1 0 1 0]]\n"
          ]
        }
      ],
      "source": [
        "a = np.zeros((8,8), dtype=int)\n",
        "a[1::2, ::2] = 1\n",
        "a[::2, 1::2] = 1\n",
        "print (a)"
      ]
    }
  ],
  "metadata": {
    "kernelspec": {
      "display_name": "Python 3",
      "language": "python",
      "name": "python3"
    },
    "language_info": {
      "codemirror_mode": {
        "name": "ipython",
        "version": 3
      },
      "file_extension": ".py",
      "mimetype": "text/x-python",
      "name": "python",
      "nbconvert_exporter": "python",
      "pygments_lexer": "ipython3",
      "version": "3.8.0"
    },
    "colab": {
      "provenance": [],
      "include_colab_link": true
    }
  },
  "nbformat": 4,
  "nbformat_minor": 0
}