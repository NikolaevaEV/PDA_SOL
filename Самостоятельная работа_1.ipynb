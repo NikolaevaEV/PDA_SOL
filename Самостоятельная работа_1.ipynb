{
  "nbformat": 4,
  "nbformat_minor": 0,
  "metadata": {
    "colab": {
      "provenance": [],
      "authorship_tag": "ABX9TyNg2GVtSWDVUHW1jP4SDTQs"
    },
    "kernelspec": {
      "name": "python3",
      "display_name": "Python 3"
    },
    "language_info": {
      "name": "python"
    }
  },
  "cells": [
    {
      "cell_type": "code",
      "execution_count": 7,
      "metadata": {
        "colab": {
          "base_uri": "https://localhost:8080/"
        },
        "id": "MEPDSS0sWwGA",
        "outputId": "695912b6-edd4-495d-8600-ed8875d0aeb9"
      },
      "outputs": [
        {
          "output_type": "stream",
          "name": "stdout",
          "text": [
            "Н\n",
            "и\n",
            "к\n",
            "о\n",
            "л\n",
            "а\n",
            "е\n",
            "в\n",
            "а\n",
            " \n",
            "Е\n",
            "л\n",
            "и\n",
            "з\n",
            "а\n",
            "в\n",
            "е\n",
            "т\n",
            "а\n",
            " \n",
            "В\n",
            "а\n",
            "л\n",
            "е\n",
            "р\n",
            "ь\n",
            "е\n",
            "в\n",
            "н\n",
            "а\n"
          ]
        }
      ],
      "source": [
        "for i in ('Николаева Елизавета Валерьевна'):\n",
        "  print(i)"
      ]
    },
    {
      "cell_type": "code",
      "source": [
        "def RUB(num):\n",
        "  yen = 1.55\n",
        "  JPY = num * yen\n",
        "  return round(JPY,2)\n",
        "\n",
        "\n",
        "RUB(1111.1111)"
      ],
      "metadata": {
        "id": "LPiQGra2X4Ja",
        "colab": {
          "base_uri": "https://localhost:8080/"
        },
        "outputId": "3bbf64e4-834c-47a1-874e-58f1e6e07bba"
      },
      "execution_count": 44,
      "outputs": [
        {
          "output_type": "execute_result",
          "data": {
            "text/plain": [
              "1722.22"
            ]
          },
          "metadata": {},
          "execution_count": 44
        }
      ]
    }
  ]
}