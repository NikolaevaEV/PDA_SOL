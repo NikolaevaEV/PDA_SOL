{
  "cells": [
    {
      "cell_type": "markdown",
      "metadata": {
        "id": "view-in-github",
        "colab_type": "text"
      },
      "source": [
        "<a href=\"https://colab.research.google.com/github/NikolaevaEV/PDA_SOL/blob/main/Exercise3_2.ipynb\" target=\"_parent\"><img src=\"https://colab.research.google.com/assets/colab-badge.svg\" alt=\"Open In Colab\"/></a>"
      ]
    },
    {
      "cell_type": "markdown",
      "metadata": {
        "id": "rg-FKkhnp4LP"
      },
      "source": [
        "# Линейная алгебра с Numpy\n",
        "\n",
        "С помощью [Sympy](http://www.sympy.org/en/index.html) можно выполнять символьную линейную алгебру, но для числовых вычислений [Numpy](http://www.numpy.org/) является высокопроизводительная библиотека, которую следует использовать при решении математических и инженерныхзадач.\n",
        "\n",
        "Описание:\n",
        "\n",
        "> NumPy — это фундаментальный пакет для научных вычислений на Python. Он содержит, среди прочего: [...]\n",
        " линейную алгебру, преобразование Фурье и теорию вероятностей.\n",
        "\n",
        "В этом разделе научимся, как:\n",
        "\n",
        "- работать с матрицами;\n",
        "- решать матричные уравнения;\n",
        "- рассчитывать обратную матрицу и определители.\n",
        "\n",
        "## Работа с матрицами\n",
        "\n",
        "Создать матрицу с помощью Numpy несложно. В качестве примера рассмотрим следующее:\n",
        "\n",
        "$$\n",
        "A = \\begin{pmatrix}\n",
        "5 & 6 & 2\\\\\n",
        "4 & 7 & 19\\\\\n",
        "0 & 3 & 12\n",
        "\\end{pmatrix}\n",
        "$$\n",
        "\n",
        "$$\n",
        "B = \\begin{pmatrix}\n",
        "14 & -2 & 12\\\\\n",
        "4 & 4 & 5\\\\\n",
        "5 & 5 & 1\n",
        "\\end{pmatrix}\n",
        "$$\n",
        "\n",
        "\n",
        "Сначала, как и в Sympy, нам нужно импортировать Numpy:"
      ]
    },
    {
      "cell_type": "code",
      "execution_count": null,
      "metadata": {
        "collapsed": true,
        "id": "vxXrjUFEp4LR"
      },
      "outputs": [],
      "source": [
        "import numpy as np"
      ]
    },
    {
      "cell_type": "markdown",
      "metadata": {
        "id": "5LnPuC3Tp4LT"
      },
      "source": [
        "Теперь можем определить $A$:"
      ]
    },
    {
      "cell_type": "code",
      "execution_count": null,
      "metadata": {
        "collapsed": true,
        "id": "-KCCC20_p4LT"
      },
      "outputs": [],
      "source": [
        "A = np.matrix([[5, 6, 2],\n",
        "               [4, 7, 19],\n",
        "               [0, 3, 12]])"
      ]
    },
    {
      "cell_type": "code",
      "execution_count": null,
      "metadata": {
        "id": "PI2zlZBNp4LT",
        "colab": {
          "base_uri": "https://localhost:8080/"
        },
        "outputId": "b0745207-97dd-49c0-80c4-536143e2df1a"
      },
      "outputs": [
        {
          "output_type": "execute_result",
          "data": {
            "text/plain": [
              "matrix([[ 5,  6,  2],\n",
              "        [ 4,  7, 19],\n",
              "        [ 0,  3, 12]])"
            ]
          },
          "metadata": {},
          "execution_count": 3
        }
      ],
      "source": [
        "A"
      ]
    },
    {
      "cell_type": "code",
      "execution_count": null,
      "metadata": {
        "collapsed": true,
        "id": "Y519asZrp4LU"
      },
      "outputs": [],
      "source": [
        "B = np.matrix([[14, -2, 12],\n",
        "               [4, 4, 5],\n",
        "               [5, 5, 1]])"
      ]
    },
    {
      "cell_type": "code",
      "execution_count": null,
      "metadata": {
        "id": "x5pVDdO7p4LV",
        "colab": {
          "base_uri": "https://localhost:8080/"
        },
        "outputId": "3b9ef27a-fb9a-4ba6-fdd5-4c342d49fcf9"
      },
      "outputs": [
        {
          "output_type": "execute_result",
          "data": {
            "text/plain": [
              "matrix([[14, -2, 12],\n",
              "        [ 4,  4,  5],\n",
              "        [ 5,  5,  1]])"
            ]
          },
          "metadata": {},
          "execution_count": 5
        }
      ],
      "source": [
        "B"
      ]
    },
    {
      "cell_type": "markdown",
      "metadata": {
        "id": "aS8Wd7u2p4LV"
      },
      "source": [
        "Можно получить как следствие:\n",
        "\n",
        "- $5A$ (или любое другое скалярное число, кратное $A$);\n",
        "- $A ^ 3$ (или любой другой показатель $A$);\n",
        "- $A + B$;\n",
        "- $A - B$;\n",
        "- $AB$"
      ]
    },
    {
      "cell_type": "code",
      "execution_count": null,
      "metadata": {
        "id": "GLBGRLLgp4LV",
        "colab": {
          "base_uri": "https://localhost:8080/"
        },
        "outputId": "26ee9ad2-5e1e-4b7d-edf1-3e9c39b4962a"
      },
      "outputs": [
        {
          "output_type": "execute_result",
          "data": {
            "text/plain": [
              "matrix([[25, 30, 10],\n",
              "        [20, 35, 95],\n",
              "        [ 0, 15, 60]])"
            ]
          },
          "metadata": {},
          "execution_count": 6
        }
      ],
      "source": [
        "5 * A"
      ]
    },
    {
      "cell_type": "code",
      "execution_count": null,
      "metadata": {
        "id": "GoIhIqMsp4LV",
        "colab": {
          "base_uri": "https://localhost:8080/"
        },
        "outputId": "16b49020-4bd0-4697-8739-91c355ec9d09"
      },
      "outputs": [
        {
          "output_type": "execute_result",
          "data": {
            "text/plain": [
              "matrix([[ 557, 1284, 3356],\n",
              "        [ 760, 2305, 6994],\n",
              "        [ 288, 1074, 3519]])"
            ]
          },
          "metadata": {},
          "execution_count": 7
        }
      ],
      "source": [
        "A ** 3"
      ]
    },
    {
      "cell_type": "code",
      "execution_count": null,
      "metadata": {
        "id": "Va-q4y9pp4LV",
        "colab": {
          "base_uri": "https://localhost:8080/"
        },
        "outputId": "3473fdd6-f991-4d24-91a8-78f79e4786fb"
      },
      "outputs": [
        {
          "output_type": "execute_result",
          "data": {
            "text/plain": [
              "matrix([[19,  4, 14],\n",
              "        [ 8, 11, 24],\n",
              "        [ 5,  8, 13]])"
            ]
          },
          "metadata": {},
          "execution_count": 8
        }
      ],
      "source": [
        "A + B"
      ]
    },
    {
      "cell_type": "code",
      "execution_count": null,
      "metadata": {
        "id": "0hT4cYEJp4LV",
        "colab": {
          "base_uri": "https://localhost:8080/"
        },
        "outputId": "3a586f6f-6904-408b-ce4a-f1060b578463"
      },
      "outputs": [
        {
          "output_type": "execute_result",
          "data": {
            "text/plain": [
              "matrix([[ -9,   8, -10],\n",
              "        [  0,   3,  14],\n",
              "        [ -5,  -2,  11]])"
            ]
          },
          "metadata": {},
          "execution_count": 9
        }
      ],
      "source": [
        "A - B"
      ]
    },
    {
      "cell_type": "code",
      "execution_count": null,
      "metadata": {
        "id": "RClISg_tp4LW",
        "colab": {
          "base_uri": "https://localhost:8080/"
        },
        "outputId": "11264eb3-f431-4718-bd41-94b289a67c77"
      },
      "outputs": [
        {
          "output_type": "execute_result",
          "data": {
            "text/plain": [
              "matrix([[104,  24,  92],\n",
              "        [179, 115, 102],\n",
              "        [ 72,  72,  27]])"
            ]
          },
          "metadata": {},
          "execution_count": 10
        }
      ],
      "source": [
        "A * B"
      ]
    },
    {
      "cell_type": "markdown",
      "source": [
        "---\n",
        "\n",
        "\n",
        "---\n",
        "\n",
        "\n",
        "**УПРАЖНЕНИЕ 1** Решить $A ^ 2 – 2 A + 3$ с помощью:\n",
        "\n",
        "$$A =\n",
        "\\begin{pmatrix}\n",
        "1 & -1\\\\\n",
        "2 & 1\n",
        "\\end{pmatrix}\n",
        "$$\n",
        "\n",
        "---\n",
        "\n"
      ],
      "metadata": {
        "id": "0sgBC0DZAPbA"
      }
    },
    {
      "cell_type": "code",
      "source": [
        "A = np.matrix([[1, -1],\n",
        "               [2, 1]])\n",
        "A**2-2*A+3"
      ],
      "metadata": {
        "colab": {
          "base_uri": "https://localhost:8080/"
        },
        "id": "fYN49bbbAXo6",
        "outputId": "cb13ea04-4375-4eec-c049-ceb9355e3100"
      },
      "execution_count": 11,
      "outputs": [
        {
          "output_type": "execute_result",
          "data": {
            "text/plain": [
              "matrix([[0, 3],\n",
              "        [3, 0]])"
            ]
          },
          "metadata": {},
          "execution_count": 11
        }
      ]
    },
    {
      "cell_type": "markdown",
      "metadata": {
        "id": "2HUiofl3p4LW"
      },
      "source": [
        "## Решение матричных уравнений\n",
        "\n",
        "Можно использовать Numpy для (эффективного) решения больших систем уравнений вида:\n",
        "\n",
        "$$Ax=b$$\n",
        "\n",
        "Проиллюстрируем это:\n",
        "\n",
        "$$\n",
        "A = \\begin{pmatrix}\n",
        "5 & 6 & 2\\\\\n",
        "4 & 7 & 19\\\\\n",
        "0 & 3 & 12\n",
        "\\end{pmatrix}\n",
        "$$\n",
        "\n",
        "$$\n",
        "b = \\begin{pmatrix}\n",
        "-1\\\\\n",
        "2\\\\\n",
        "1\n",
        "\\end{pmatrix}\n",
        "$$"
      ]
    },
    {
      "cell_type": "code",
      "execution_count": 12,
      "metadata": {
        "collapsed": true,
        "id": "BKRBLJdlp4LW"
      },
      "outputs": [],
      "source": [
        "A = np.matrix([[5, 6, 2],\n",
        "               [4, 7, 19],\n",
        "               [0, 3, 12]])\n",
        "b = np.matrix([[-1], [2], [1]])"
      ]
    },
    {
      "cell_type": "markdown",
      "metadata": {
        "id": "Cy-8-9Lrp4LW"
      },
      "source": [
        "Мы используем команду `linalg.solve`:"
      ]
    },
    {
      "cell_type": "code",
      "execution_count": 13,
      "metadata": {
        "id": "S28mhHKup4LW",
        "colab": {
          "base_uri": "https://localhost:8080/"
        },
        "outputId": "feae7555-7967-455d-ab45-5f85b2df9dd6"
      },
      "outputs": [
        {
          "output_type": "execute_result",
          "data": {
            "text/plain": [
              "matrix([[ 0.45736434],\n",
              "        [-0.62790698],\n",
              "        [ 0.24031008]])"
            ]
          },
          "metadata": {},
          "execution_count": 13
        }
      ],
      "source": [
        "x = np.linalg.solve(A, b)\n",
        "x"
      ]
    },
    {
      "cell_type": "markdown",
      "metadata": {
        "id": "OvYF3ugDp4LW"
      },
      "source": [
        "Проверим результат:"
      ]
    },
    {
      "cell_type": "code",
      "execution_count": 14,
      "metadata": {
        "id": "b3MEe9nhp4LX",
        "colab": {
          "base_uri": "https://localhost:8080/"
        },
        "outputId": "0d4b26b5-dea7-48b0-d381-51b2a3fefcdf"
      },
      "outputs": [
        {
          "output_type": "execute_result",
          "data": {
            "text/plain": [
              "matrix([[-1.],\n",
              "        [ 2.],\n",
              "        [ 1.]])"
            ]
          },
          "metadata": {},
          "execution_count": 14
        }
      ],
      "source": [
        "A * x"
      ]
    },
    {
      "cell_type": "markdown",
      "source": [
        "---\n",
        "**УПРАЖНЕНИЕ 2** Найти решение матричного уравнения $Bx=b$ (используя $B$).\n",
        "\n",
        "---\n",
        "\n"
      ],
      "metadata": {
        "id": "FS6AThS2AtVD"
      }
    },
    {
      "cell_type": "code",
      "source": [
        "x = np.linalg.solve(B, b)\n",
        "B*x"
      ],
      "metadata": {
        "colab": {
          "base_uri": "https://localhost:8080/"
        },
        "id": "jDrKKyiKAu6H",
        "outputId": "e8eed085-5462-4b81-9212-68dda6735fa9"
      },
      "execution_count": 15,
      "outputs": [
        {
          "output_type": "execute_result",
          "data": {
            "text/plain": [
              "matrix([[-1.],\n",
              "        [ 2.],\n",
              "        [ 1.]])"
            ]
          },
          "metadata": {},
          "execution_count": 15
        }
      ]
    },
    {
      "cell_type": "markdown",
      "metadata": {
        "id": "SqJWo3igp4LX"
      },
      "source": [
        "## Обратные матрицы и определители\n",
        "\n",
        "Найдем обратную матрицу:"
      ]
    },
    {
      "cell_type": "code",
      "execution_count": 16,
      "metadata": {
        "id": "40ZnMcmYp4LX",
        "colab": {
          "base_uri": "https://localhost:8080/"
        },
        "outputId": "b2f93152-cced-4535-dd45-a962066f0c09"
      },
      "outputs": [
        {
          "output_type": "execute_result",
          "data": {
            "text/plain": [
              "matrix([[-0.20930233,  0.51162791, -0.7751938 ],\n",
              "        [ 0.37209302, -0.46511628,  0.6744186 ],\n",
              "        [-0.09302326,  0.11627907, -0.08527132]])"
            ]
          },
          "metadata": {},
          "execution_count": 16
        }
      ],
      "source": [
        "Ainv = np.linalg.inv(A)\n",
        "Ainv"
      ]
    },
    {
      "cell_type": "markdown",
      "metadata": {
        "id": "2P56AFdPp4LX"
      },
      "source": [
        "Проверка $A^{-1}A=\\mathbb{1}$:"
      ]
    },
    {
      "cell_type": "code",
      "execution_count": 17,
      "metadata": {
        "tags": [
          "nbval-ignore-output"
        ],
        "id": "E0w8uSJ1p4LX",
        "colab": {
          "base_uri": "https://localhost:8080/"
        },
        "outputId": "ec1994a4-6240-448d-d8e2-dfff78bfe225"
      },
      "outputs": [
        {
          "output_type": "execute_result",
          "data": {
            "text/plain": [
              "matrix([[ 1.00000000e+00,  4.99600361e-16, -4.71844785e-16],\n",
              "        [ 1.38777878e-16,  1.00000000e+00, -2.63677968e-16],\n",
              "        [ 1.11022302e-16,  1.11022302e-16,  1.00000000e+00]])"
            ]
          },
          "metadata": {},
          "execution_count": 17
        }
      ],
      "source": [
        "A * Ainv"
      ]
    },
    {
      "cell_type": "markdown",
      "metadata": {
        "id": "ODJ_7muxp4LX"
      },
      "source": [
        "Казалось бы, что матрица не единичная, однако по главной  `1` , а на всех остальных позициях **очень** маленькие числа (однако для компьютера это `0`)."
      ]
    },
    {
      "cell_type": "markdown",
      "metadata": {
        "id": "gPcR_9X9p4LX"
      },
      "source": [
        "Вычислим детерминант:"
      ]
    },
    {
      "cell_type": "code",
      "execution_count": 18,
      "metadata": {
        "tags": [
          "nbval-ignore-output"
        ],
        "id": "KxY9zOm_p4LY",
        "colab": {
          "base_uri": "https://localhost:8080/"
        },
        "outputId": "d8336b3c-7c55-411f-fcd3-69f28c7a5d08"
      },
      "outputs": [
        {
          "output_type": "execute_result",
          "data": {
            "text/plain": [
              "-129.00000000000009"
            ]
          },
          "metadata": {},
          "execution_count": 18
        }
      ],
      "source": [
        "np.linalg.det(A)"
      ]
    },
    {
      "cell_type": "markdown",
      "metadata": {
        "id": "zKh5JnsWp4LY"
      },
      "source": [
        "---\n",
        "\n",
        "**УПРАЖНЕНИЕ 2** Вычислите обратную матрицу и определитель $B$ (ранее уже находили).\n",
        "\n",
        "---"
      ]
    },
    {
      "cell_type": "code",
      "source": [
        "Binv = np.linalg.inv(B)\n",
        "Binv"
      ],
      "metadata": {
        "colab": {
          "base_uri": "https://localhost:8080/"
        },
        "id": "9yc_sI_qA3Fj",
        "outputId": "06785245-eb91-4d1e-e6e6-786ffd96c59e"
      },
      "execution_count": 19,
      "outputs": [
        {
          "output_type": "execute_result",
          "data": {
            "text/plain": [
              "matrix([[ 6.25000000e-02, -1.84523810e-01,  1.72619048e-01],\n",
              "        [-6.25000000e-02,  1.36904762e-01,  6.54761905e-02],\n",
              "        [-1.09511795e-17,  2.38095238e-01, -1.90476190e-01]])"
            ]
          },
          "metadata": {},
          "execution_count": 19
        }
      ]
    },
    {
      "cell_type": "code",
      "source": [
        "B * Binv\n",
        "np.linalg.det(B)"
      ],
      "metadata": {
        "colab": {
          "base_uri": "https://localhost:8080/"
        },
        "id": "sCU_XpdcBGRR",
        "outputId": "4a1bb49b-a835-4da9-e21f-da07db703584"
      },
      "execution_count": 20,
      "outputs": [
        {
          "output_type": "execute_result",
          "data": {
            "text/plain": [
              "-336.0"
            ]
          },
          "metadata": {},
          "execution_count": 20
        }
      ]
    }
  ],
  "metadata": {
    "anaconda-cloud": {},
    "celltoolbar": "Tags",
    "kernelspec": {
      "display_name": "Python [conda env:mwp]",
      "language": "python",
      "name": "conda-env-mwp-py"
    },
    "language_info": {
      "codemirror_mode": {
        "name": "ipython",
        "version": 3
      },
      "file_extension": ".py",
      "mimetype": "text/x-python",
      "name": "python",
      "nbconvert_exporter": "python",
      "pygments_lexer": "ipython3",
      "version": "3.7.0"
    },
    "colab": {
      "provenance": [],
      "include_colab_link": true
    }
  },
  "nbformat": 4,
  "nbformat_minor": 0
}