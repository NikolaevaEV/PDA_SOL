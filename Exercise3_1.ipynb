{
  "cells": [
    {
      "cell_type": "markdown",
      "metadata": {
        "id": "view-in-github",
        "colab_type": "text"
      },
      "source": [
        "<a href=\"https://colab.research.google.com/github/NikolaevaEV/PDA_SOL/blob/main/Exercise3_1.ipynb\" target=\"_parent\"><img src=\"https://colab.research.google.com/assets/colab-badge.svg\" alt=\"Open In Colab\"/></a>"
      ]
    },
    {
      "cell_type": "markdown",
      "metadata": {
        "id": "ynDGv1zWpbS9"
      },
      "source": [
        "# Символьная математика с Sympy\n",
        "\n",
        "[Sympy](http://www.sympy.org/en/index.html) описывается как:\n",
        "\n",
        "> \"... Python library for symbolic mathematics.\"\n",
        "\n",
        "Это означает, что `Sympy` можно использовать для:\n",
        "\n",
        "- Работа с символическими выражениями;\n",
        "- Решать символьные уравнения;\n",
        "- Проводить символическое исчисление;\n",
        "- Построение символьной графики.\n",
        "\n",
        "Подробнее о возможностях `Sympy` можно прочитать здесь: http://www.sympy.org/en/index.html.\n",
        "\n",
        "## Работа с символическими выражениями\n",
        "\n",
        "Импортируем библиотеку `Sympy`."
      ]
    },
    {
      "cell_type": "code",
      "execution_count": 2,
      "metadata": {
        "id": "Q9zsEu-_pbS_"
      },
      "outputs": [],
      "source": [
        "import sympy as sym"
      ]
    },
    {
      "cell_type": "markdown",
      "metadata": {
        "id": "KcMpGeoupbTA"
      },
      "source": [
        "Импорт библиотеки дает доступ к ее командам, используя сокращение `sym`.\n",
        "\n",
        "При  попытке проверки выражения $x - x = 0$, получим ошибку, если предварительно не описать в Python переменную $x$."
      ]
    },
    {
      "cell_type": "markdown",
      "metadata": {
        "id": "8ePCCMHFpbTA"
      },
      "source": [
        "Здесь на помощь приходит `Sympy`: мы можем указать Python создать $x$ в качестве символьной переменной:"
      ]
    },
    {
      "cell_type": "code",
      "execution_count": 3,
      "metadata": {
        "id": "dJ_UpEeKpbTB"
      },
      "outputs": [],
      "source": [
        "x = sym.symbols('x')"
      ]
    },
    {
      "cell_type": "markdown",
      "metadata": {
        "id": "TlRXTadbpbTB"
      },
      "source": [
        "Теперь мы можем вычислить $x - x$:"
      ]
    },
    {
      "cell_type": "code",
      "execution_count": 4,
      "metadata": {
        "id": "-N3MmA6dpbTB",
        "colab": {
          "base_uri": "https://localhost:8080/",
          "height": 37
        },
        "outputId": "ecf6da91-98db-4368-8acf-072186d0d435"
      },
      "outputs": [
        {
          "output_type": "execute_result",
          "data": {
            "text/plain": [
              "0"
            ],
            "text/latex": "$\\displaystyle 0$"
          },
          "metadata": {},
          "execution_count": 4
        }
      ],
      "source": [
        "x - x"
      ]
    },
    {
      "cell_type": "markdown",
      "metadata": {
        "id": "4KNxPlZzpbTB"
      },
      "source": [
        "Мы можем создавать выражения и манипулировать ими в Sympy. Давайте, например, проверим:\n",
        "\n",
        "$$(a + b) ^ 2 = а ^ 2 + 2ab + b ^2$$\n",
        "\n",
        "Сначала мы создаем символьные переменные $a, b$:"
      ]
    },
    {
      "cell_type": "code",
      "execution_count": 5,
      "metadata": {
        "id": "rep2HMOfpbTB"
      },
      "outputs": [],
      "source": [
        "a, b = sym.symbols('a, b')"
      ]
    },
    {
      "cell_type": "markdown",
      "metadata": {
        "id": "evR9bjLCpbTC"
      },
      "source": [
        "Теперь давайте создадим наше выражение:"
      ]
    },
    {
      "cell_type": "code",
      "execution_count": 6,
      "metadata": {
        "id": "ErtTcP-GpbTC",
        "colab": {
          "base_uri": "https://localhost:8080/",
          "height": 39
        },
        "outputId": "b8b65630-caef-4760-85f8-eef7254eca67"
      },
      "outputs": [
        {
          "output_type": "execute_result",
          "data": {
            "text/plain": [
              "(a + b)**2"
            ],
            "text/latex": "$\\displaystyle \\left(a + b\\right)^{2}$"
          },
          "metadata": {},
          "execution_count": 6
        }
      ],
      "source": [
        "expr = (a + b) ** 2\n",
        "expr"
      ]
    },
    {
      "cell_type": "markdown",
      "metadata": {
        "id": "wF7bYlwQpbTC"
      },
      "source": [
        "**Примечание**  в `Sympy` можно использовать LaTeX-разметку, чтобы результат выглядел в более удобно читаемом виде:"
      ]
    },
    {
      "cell_type": "code",
      "execution_count": 7,
      "metadata": {
        "id": "S-P3cxFwpbTC"
      },
      "outputs": [],
      "source": [
        "sym.init_printing()"
      ]
    },
    {
      "cell_type": "code",
      "execution_count": 8,
      "metadata": {
        "id": "OK6rrHQspbTC",
        "colab": {
          "base_uri": "https://localhost:8080/",
          "height": 39
        },
        "outputId": "b287f1f6-e7ce-48b5-fd6f-77b9f45a59df"
      },
      "outputs": [
        {
          "output_type": "execute_result",
          "data": {
            "text/plain": [
              "       2\n",
              "(a + b) "
            ],
            "text/latex": "$\\displaystyle \\left(a + b\\right)^{2}$"
          },
          "metadata": {},
          "execution_count": 8
        }
      ],
      "source": [
        "expr"
      ]
    },
    {
      "cell_type": "markdown",
      "metadata": {
        "id": "JA9ZWS9rpbTC"
      },
      "source": [
        "Раскроем скобки в выражении:"
      ]
    },
    {
      "cell_type": "code",
      "execution_count": 9,
      "metadata": {
        "id": "mkxn3npUpbTC",
        "colab": {
          "base_uri": "https://localhost:8080/",
          "height": 39
        },
        "outputId": "2b9ddf1e-bd49-46fb-ba10-b9eb5e09e9dd"
      },
      "outputs": [
        {
          "output_type": "execute_result",
          "data": {
            "text/plain": [
              " 2            2\n",
              "a  + 2⋅a⋅b + b "
            ],
            "text/latex": "$\\displaystyle a^{2} + 2 a b + b^{2}$"
          },
          "metadata": {},
          "execution_count": 9
        }
      ],
      "source": [
        "expr.expand()"
      ]
    },
    {
      "cell_type": "markdown",
      "metadata": {
        "id": "sgQwmsvLpbTC"
      },
      "source": [
        "Обратите внимание, что  в `Sympy` можно создать код LaTeX для дальнейшего применения:"
      ]
    },
    {
      "cell_type": "code",
      "execution_count": 10,
      "metadata": {
        "id": "GRVdzYqxpbTD",
        "colab": {
          "base_uri": "https://localhost:8080/",
          "height": 35
        },
        "outputId": "0160bf88-4489-4adb-9d0b-814f04fafe80"
      },
      "outputs": [
        {
          "output_type": "execute_result",
          "data": {
            "text/plain": [
              "'a^{2} + 2 a b + b^{2}'"
            ],
            "application/vnd.google.colaboratory.intrinsic+json": {
              "type": "string"
            }
          },
          "metadata": {},
          "execution_count": 10
        }
      ],
      "source": [
        "sym.latex(expr.expand())"
      ]
    },
    {
      "cell_type": "markdown",
      "metadata": {
        "id": "vyGwee5TpbTD"
      },
      "source": [
        "---\n",
        "**УПРАЖНЕНИЕ 1** Используйте Sympy, чтобы проверить следующие выражения:\n",
        "\n",
        "- $(a - b) ^ 2 = a ^ 2 - 2 a b + b^2$\n",
        "- $a ^ 2 - b ^ 2 = (a - b) (a + b)$ (вместо использования `expand` попробуйте `factor`)"
      ]
    },
    {
      "cell_type": "code",
      "source": [
        "expr = (a - b) ** 2\n",
        "expr.expand()"
      ],
      "metadata": {
        "colab": {
          "base_uri": "https://localhost:8080/",
          "height": 39
        },
        "id": "wPyEPnj5rDPr",
        "outputId": "452d338b-f045-440e-fcd5-b20d04e6087a"
      },
      "execution_count": 23,
      "outputs": [
        {
          "output_type": "execute_result",
          "data": {
            "text/plain": [
              " 2            2\n",
              "a  - 2⋅a⋅b + b "
            ],
            "text/latex": "$\\displaystyle a^{2} - 2 a b + b^{2}$"
          },
          "metadata": {},
          "execution_count": 23
        }
      ]
    },
    {
      "cell_type": "code",
      "source": [
        "expr = a ** 2 - b ** 2\n",
        "expr.factor()"
      ],
      "metadata": {
        "colab": {
          "base_uri": "https://localhost:8080/",
          "height": 39
        },
        "id": "0gkydJXHsL4v",
        "outputId": "7affdefb-daa0-4767-d0ff-b50248d0f8a2"
      },
      "execution_count": 24,
      "outputs": [
        {
          "output_type": "execute_result",
          "data": {
            "text/plain": [
              "(a - b)⋅(a + b)"
            ],
            "text/latex": "$\\displaystyle \\left(a - b\\right) \\left(a + b\\right)$"
          },
          "metadata": {},
          "execution_count": 24
        }
      ]
    },
    {
      "cell_type": "markdown",
      "metadata": {
        "id": "UPOKWIr1pbTD"
      },
      "source": [
        "## Решение символьных уравнений"
      ]
    },
    {
      "cell_type": "markdown",
      "metadata": {
        "id": "YK7DxzxapbTD"
      },
      "source": [
        "Мы можем использовать `Sympy` для решения символьных выражений. Например, найдем неизвестное $x$ квадратного уравнения:\n",
        "$$a x ^ 2 + b x + c = 0$$"
      ]
    },
    {
      "cell_type": "code",
      "execution_count": 17,
      "metadata": {
        "id": "2R08lHoVpbTD"
      },
      "outputs": [],
      "source": [
        "a, b, c, x = sym.symbols('a, b, c, x')"
      ]
    },
    {
      "cell_type": "markdown",
      "metadata": {
        "id": "6oCqUBL1pbTD"
      },
      "source": [
        "Команда в `Sympy` для решения уравнений — `solveset`. Первый аргумент — это выражение, для которого будет найден корень. Второй аргумент — это значение, которое мы ищем."
      ]
    },
    {
      "cell_type": "code",
      "execution_count": 26,
      "metadata": {
        "id": "mKoa2guKpbTD",
        "colab": {
          "base_uri": "https://localhost:8080/",
          "height": 68
        },
        "outputId": "d4c0dca2-d4cd-4375-ebe1-a64e63acea18"
      },
      "outputs": [
        {
          "output_type": "execute_result",
          "data": {
            "text/plain": [
              "⎧           _____________             _____________⎫\n",
              "⎪          ╱           2             ╱           2 ⎪\n",
              "⎨   b    ╲╱  -4⋅a⋅c + b       b    ╲╱  -4⋅a⋅c + b  ⎬\n",
              "⎪- ─── - ────────────────, - ─── + ────────────────⎪\n",
              "⎩  2⋅a         2⋅a           2⋅a         2⋅a       ⎭"
            ],
            "text/latex": "$\\displaystyle \\left\\{- \\frac{b}{2 a} - \\frac{\\sqrt{- 4 a c + b^{2}}}{2 a}, - \\frac{b}{2 a} + \\frac{\\sqrt{- 4 a c + b^{2}}}{2 a}\\right\\}$"
          },
          "metadata": {},
          "execution_count": 26
        }
      ],
      "source": [
        "sym.solveset(a * x ** 2 + b * x + c, x)"
      ]
    },
    {
      "cell_type": "markdown",
      "metadata": {
        "id": "Lhw5nbeEpbTD"
      },
      "source": [
        "---\n",
        "** УПРАЖНЕНИЕ 2** Используйте Sympy, чтобы найти решения обобщенного кубического уравнения:\n",
        "\n",
        "$$a x ^ 3 + b x ^ 2 + c  x + d = 0$$\n",
        "\n",
        "---"
      ]
    },
    {
      "cell_type": "code",
      "source": [
        "a, b, c, d, x = sym.symbols('a, b, c, d, x')"
      ],
      "metadata": {
        "id": "rho0fbJ6tZxH"
      },
      "execution_count": 16,
      "outputs": []
    },
    {
      "cell_type": "code",
      "source": [
        "sym.solveset(a * x ** 3 + b * x ** 2 + c * x + d, x)"
      ],
      "metadata": {
        "colab": {
          "base_uri": "https://localhost:8080/",
          "height": 149
        },
        "id": "50Va2obItrY-",
        "outputId": "9286c4fe-66b1-4275-a789-f36d1dd5e506"
      },
      "execution_count": 19,
      "outputs": [
        {
          "output_type": "execute_result",
          "data": {
            "text/plain": [
              "⎧                                                                             \n",
              "⎪                                                                             \n",
              "⎪                                                                             \n",
              "⎪                                                                             \n",
              "⎪                                                                             \n",
              "⎪                                                                             \n",
              "⎪                                                 2                           \n",
              "⎪                                          3⋅c   b                            \n",
              "⎪                                        - ─── + ──                           \n",
              "⎪                                           a     2                           \n",
              "⎪                                                a                            \n",
              "⎨- ───────────────────────────────────────────────────────────────────────────\n",
              "⎪               ______________________________________________________________\n",
              "⎪              ╱        ____________________________________________          \n",
              "⎪             ╱        ╱                 3                        2           \n",
              "⎪            ╱        ╱      ⎛         2⎞    ⎛                  3⎞            \n",
              "⎪           ╱        ╱       ⎜  3⋅c   b ⎟    ⎜27⋅d   9⋅b⋅c   2⋅b ⎟            \n",
              "⎪          ╱        ╱    - 4⋅⎜- ─── + ──⎟  + ⎜──── - ───── + ────⎟            \n",
              "⎪         ╱        ╱         ⎜   a     2⎟    ⎜ a        2      3 ⎟            \n",
              "⎪        ╱       ╲╱          ⎝        a ⎠    ⎝         a      a  ⎠     27⋅d   \n",
              "⎪  3⋅   ╱        ─────────────────────────────────────────────────── + ──── - \n",
              "⎪    3 ╱                                  2                            2⋅a    \n",
              "⎩    ╲╱                                                                       \n",
              "\n",
              "                         _____________________________________________________\n",
              "                        ╱        ____________________________________________ \n",
              "                       ╱        ╱                 3                        2  \n",
              "                      ╱        ╱      ⎛         2⎞    ⎛                  3⎞   \n",
              "                     ╱        ╱       ⎜  3⋅c   b ⎟    ⎜27⋅d   9⋅b⋅c   2⋅b ⎟   \n",
              "                    ╱        ╱    - 4⋅⎜- ─── + ──⎟  + ⎜──── - ───── + ────⎟   \n",
              "                   ╱        ╱         ⎜   a     2⎟    ⎜ a        2      3 ⎟   \n",
              "                  ╱       ╲╱          ⎝        a ⎠    ⎝         a      a  ⎠   \n",
              "                 ╱        ─────────────────────────────────────────────────── \n",
              "              3 ╱                                  2                          \n",
              "              ╲╱                                                              \n",
              "─────────── - ────────────────────────────────────────────────────────────────\n",
              "___________                                            3                      \n",
              "                                                                              \n",
              "                                                                              \n",
              "                                                                              \n",
              "                                                                              \n",
              "                                                                              \n",
              "         3                                                                    \n",
              "9⋅b⋅c   b                                                                     \n",
              "───── + ──                                                                    \n",
              "    2    3                                                                    \n",
              " 2⋅a    a                                                                     \n",
              "\n",
              "____________________                                                          \n",
              "                                                                              \n",
              "                                                                              \n",
              "                                                                              \n",
              "                                                                              \n",
              "                                                                              \n",
              "                  3                                                           \n",
              "  27⋅d   9⋅b⋅c   b                                                           3\n",
              "+ ──── - ───── + ──                                                        - ─\n",
              "  2⋅a        2    3                                                           \n",
              "          2⋅a    a      b                                                     \n",
              "──────────────────── - ───, - ────────────────────────────────────────────────\n",
              "                       3⋅a                              ______________________\n",
              "                                                       ╱        ______________\n",
              "                                                      ╱        ╱              \n",
              "                                                     ╱        ╱      ⎛        \n",
              "                                                    ╱        ╱       ⎜  3⋅c   \n",
              "                                                   ╱        ╱    - 4⋅⎜- ─── + \n",
              "                                                  ╱        ╱         ⎜   a    \n",
              "                                ⎛  1   √3⋅ⅈ⎞     ╱       ╲╱          ⎝        \n",
              "                              3⋅⎜- ─ - ────⎟⋅   ╱        ─────────────────────\n",
              "                                ⎝  2    2  ⎠ 3 ╱                              \n",
              "                                             ╲╱                               \n",
              "\n",
              "                                                                              \n",
              "                                                                             ╱\n",
              "                                                                            ╱ \n",
              "                                                                           ╱  \n",
              "                                                                          ╱   \n",
              "                                                                         ╱    \n",
              "      2                                                                 ╱     \n",
              "⋅c   b                                                ⎛  1   √3⋅ⅈ⎞     ╱      \n",
              "── + ──                                               ⎜- ─ - ────⎟⋅   ╱       \n",
              "a     2                                               ⎝  2    2  ⎠ 3 ╱        \n",
              "     a                                                             ╲╱         \n",
              "─────────────────────────────────────────────────── - ────────────────────────\n",
              "___________________________________________________                           \n",
              "______________________________                                                \n",
              "   3                        2                                                 \n",
              " 2⎞    ⎛                  3⎞                                                  \n",
              "b ⎟    ⎜27⋅d   9⋅b⋅c   2⋅b ⎟                                                  \n",
              "──⎟  + ⎜──── - ───── + ────⎟                                                  \n",
              " 2⎟    ⎜ a        2      3 ⎟                     3                            \n",
              "a ⎠    ⎝         a      a  ⎠     27⋅d   9⋅b⋅c   b                             \n",
              "────────────────────────────── + ──── - ───── + ──                            \n",
              "    2                            2⋅a        2    3                            \n",
              "                                         2⋅a    a                             \n",
              "\n",
              "_________________________________________________________________________     \n",
              "        ____________________________________________                          \n",
              "       ╱                 3                        2                           \n",
              "      ╱      ⎛         2⎞    ⎛                  3⎞                            \n",
              "     ╱       ⎜  3⋅c   b ⎟    ⎜27⋅d   9⋅b⋅c   2⋅b ⎟                            \n",
              "    ╱    - 4⋅⎜- ─── + ──⎟  + ⎜──── - ───── + ────⎟                            \n",
              "   ╱         ⎜   a     2⎟    ⎜ a        2      3 ⎟                     3      \n",
              " ╲╱          ⎝        a ⎠    ⎝         a      a  ⎠     27⋅d   9⋅b⋅c   b       \n",
              " ─────────────────────────────────────────────────── + ──── - ───── + ──      \n",
              "                          2                            2⋅a        2    3      \n",
              "                                                               2⋅a    a      b\n",
              "───────────────────────────────────────────────────────────────────────── - ──\n",
              "                        3                                                   3⋅\n",
              "                                                                              \n",
              "                                                                              \n",
              "                                                                              \n",
              "                                                                              \n",
              "                                                                              \n",
              "                                                                              \n",
              "                                                                              \n",
              "                                                                              \n",
              "                                                                              \n",
              "                                                                              \n",
              "\n",
              "                                                                              \n",
              "                                                                              \n",
              "                                                                              \n",
              "                                                                              \n",
              "                                                                              \n",
              "                                                                              \n",
              "                                                           2                  \n",
              "                                                    3⋅c   b                   \n",
              "                                                  - ─── + ──                  \n",
              "                                                     a     2                  \n",
              "                                                          a                   \n",
              "─, - ─────────────────────────────────────────────────────────────────────────\n",
              "a                              _______________________________________________\n",
              "                              ╱        _______________________________________\n",
              "                             ╱        ╱                 3                     \n",
              "                            ╱        ╱      ⎛         2⎞    ⎛                 \n",
              "                           ╱        ╱       ⎜  3⋅c   b ⎟    ⎜27⋅d   9⋅b⋅c   2⋅\n",
              "                          ╱        ╱    - 4⋅⎜- ─── + ──⎟  + ⎜──── - ───── + ──\n",
              "                         ╱        ╱         ⎜   a     2⎟    ⎜ a        2      \n",
              "       ⎛  1   √3⋅ⅈ⎞     ╱       ╲╱          ⎝        a ⎠    ⎝         a      a\n",
              "     3⋅⎜- ─ + ────⎟⋅   ╱        ──────────────────────────────────────────────\n",
              "       ⎝  2    2  ⎠ 3 ╱                                  2                    \n",
              "                    ╲╱                                                        \n",
              "\n",
              "                                                     _________________________\n",
              "                                                    ╱        _________________\n",
              "                                                   ╱        ╱                 \n",
              "                                                  ╱        ╱      ⎛         2⎞\n",
              "                                                 ╱        ╱       ⎜  3⋅c   b ⎟\n",
              "                                                ╱        ╱    - 4⋅⎜- ─── + ──⎟\n",
              "                                               ╱        ╱         ⎜   a     2⎟\n",
              "                             ⎛  1   √3⋅ⅈ⎞     ╱       ╲╱          ⎝        a ⎠\n",
              "                             ⎜- ─ + ────⎟⋅   ╱        ────────────────────────\n",
              "                             ⎝  2    2  ⎠ 3 ╱                                 \n",
              "                                          ╲╱                                  \n",
              "────────────────────────── - ─────────────────────────────────────────────────\n",
              "__________________________                                                   3\n",
              "_____                                                                         \n",
              "   2                                                                          \n",
              " 3⎞                                                                           \n",
              "b ⎟                                                                           \n",
              "──⎟                                                                           \n",
              "3 ⎟                     3                                                     \n",
              "  ⎠     27⋅d   9⋅b⋅c   b                                                      \n",
              "───── + ──── - ───── + ──                                                     \n",
              "        2⋅a        2    3                                                     \n",
              "                2⋅a    a                                                      \n",
              "\n",
              "________________________________________________      ⎫\n",
              "___________________________                           ⎪\n",
              "3                        2                            ⎪\n",
              "    ⎛                  3⎞                             ⎪\n",
              "    ⎜27⋅d   9⋅b⋅c   2⋅b ⎟                             ⎪\n",
              "  + ⎜──── - ───── + ────⎟                             ⎪\n",
              "    ⎜ a        2      3 ⎟                     3       ⎪\n",
              "    ⎝         a      a  ⎠     27⋅d   9⋅b⋅c   b        ⎪\n",
              "─────────────────────────── + ──── - ───── + ──       ⎪\n",
              " 2                            2⋅a        2    3       ⎪\n",
              "                                      2⋅a    a      b ⎪\n",
              "──────────────────────────────────────────────── - ───⎬\n",
              "                                                   3⋅a⎪\n",
              "                                                      ⎪\n",
              "                                                      ⎪\n",
              "                                                      ⎪\n",
              "                                                      ⎪\n",
              "                                                      ⎪\n",
              "                                                      ⎪\n",
              "                                                      ⎪\n",
              "                                                      ⎪\n",
              "                                                      ⎪\n",
              "                                                      ⎭"
            ],
            "text/latex": "$\\displaystyle \\left\\{- \\frac{- \\frac{3 c}{a} + \\frac{b^{2}}{a^{2}}}{3 \\sqrt[3]{\\frac{\\sqrt{- 4 \\left(- \\frac{3 c}{a} + \\frac{b^{2}}{a^{2}}\\right)^{3} + \\left(\\frac{27 d}{a} - \\frac{9 b c}{a^{2}} + \\frac{2 b^{3}}{a^{3}}\\right)^{2}}}{2} + \\frac{27 d}{2 a} - \\frac{9 b c}{2 a^{2}} + \\frac{b^{3}}{a^{3}}}} - \\frac{\\sqrt[3]{\\frac{\\sqrt{- 4 \\left(- \\frac{3 c}{a} + \\frac{b^{2}}{a^{2}}\\right)^{3} + \\left(\\frac{27 d}{a} - \\frac{9 b c}{a^{2}} + \\frac{2 b^{3}}{a^{3}}\\right)^{2}}}{2} + \\frac{27 d}{2 a} - \\frac{9 b c}{2 a^{2}} + \\frac{b^{3}}{a^{3}}}}{3} - \\frac{b}{3 a}, - \\frac{- \\frac{3 c}{a} + \\frac{b^{2}}{a^{2}}}{3 \\left(- \\frac{1}{2} - \\frac{\\sqrt{3} i}{2}\\right) \\sqrt[3]{\\frac{\\sqrt{- 4 \\left(- \\frac{3 c}{a} + \\frac{b^{2}}{a^{2}}\\right)^{3} + \\left(\\frac{27 d}{a} - \\frac{9 b c}{a^{2}} + \\frac{2 b^{3}}{a^{3}}\\right)^{2}}}{2} + \\frac{27 d}{2 a} - \\frac{9 b c}{2 a^{2}} + \\frac{b^{3}}{a^{3}}}} - \\frac{\\left(- \\frac{1}{2} - \\frac{\\sqrt{3} i}{2}\\right) \\sqrt[3]{\\frac{\\sqrt{- 4 \\left(- \\frac{3 c}{a} + \\frac{b^{2}}{a^{2}}\\right)^{3} + \\left(\\frac{27 d}{a} - \\frac{9 b c}{a^{2}} + \\frac{2 b^{3}}{a^{3}}\\right)^{2}}}{2} + \\frac{27 d}{2 a} - \\frac{9 b c}{2 a^{2}} + \\frac{b^{3}}{a^{3}}}}{3} - \\frac{b}{3 a}, - \\frac{- \\frac{3 c}{a} + \\frac{b^{2}}{a^{2}}}{3 \\left(- \\frac{1}{2} + \\frac{\\sqrt{3} i}{2}\\right) \\sqrt[3]{\\frac{\\sqrt{- 4 \\left(- \\frac{3 c}{a} + \\frac{b^{2}}{a^{2}}\\right)^{3} + \\left(\\frac{27 d}{a} - \\frac{9 b c}{a^{2}} + \\frac{2 b^{3}}{a^{3}}\\right)^{2}}}{2} + \\frac{27 d}{2 a} - \\frac{9 b c}{2 a^{2}} + \\frac{b^{3}}{a^{3}}}} - \\frac{\\left(- \\frac{1}{2} + \\frac{\\sqrt{3} i}{2}\\right) \\sqrt[3]{\\frac{\\sqrt{- 4 \\left(- \\frac{3 c}{a} + \\frac{b^{2}}{a^{2}}\\right)^{3} + \\left(\\frac{27 d}{a} - \\frac{9 b c}{a^{2}} + \\frac{2 b^{3}}{a^{3}}\\right)^{2}}}{2} + \\frac{27 d}{2 a} - \\frac{9 b c}{2 a^{2}} + \\frac{b^{3}}{a^{3}}}}{3} - \\frac{b}{3 a}\\right\\}$"
          },
          "metadata": {},
          "execution_count": 19
        }
      ]
    },
    {
      "cell_type": "markdown",
      "metadata": {
        "id": "M_intuvBpbTE"
      },
      "source": [
        "В `solveset` можно передать больше аргументов, например, чтобы ограничить пространство решений. Давайте посмотрим, что представляет собой решение следующей задачи. $\\mathbb{R}$:\n",
        "\n",
        "$$x^2=-1$$"
      ]
    },
    {
      "cell_type": "code",
      "execution_count": 20,
      "metadata": {
        "id": "R62Zg5hbpbTE",
        "colab": {
          "base_uri": "https://localhost:8080/",
          "height": 37
        },
        "outputId": "e04117db-6e07-462b-d289-b20cc91aa83a"
      },
      "outputs": [
        {
          "output_type": "execute_result",
          "data": {
            "text/plain": [
              "∅"
            ],
            "text/latex": "$\\displaystyle \\emptyset$"
          },
          "metadata": {},
          "execution_count": 20
        }
      ],
      "source": [
        "sym.solveset(x ** 2 + 1, x, domain=sym.S.Reals)"
      ]
    },
    {
      "cell_type": "markdown",
      "metadata": {
        "id": "oWJ-CSKMpbTE"
      },
      "source": [
        "---\n",
        "** УПРАЖНЕНИЕ 3** Используйте Sympy, чтобы найти решения следующих уравнений:\n",
        "\n",
        "- $x ^ 2 == 2$ in $\\mathbb{N}$;\n",
        "- $x ^ 3 + 2 x = 0$ in $\\mathbb{R}$.\n",
        "\n",
        "---"
      ]
    },
    {
      "cell_type": "code",
      "source": [
        "x = sym.symbols('x')\n",
        "sym.solveset(x**2-2, domain= sym.S.Naturals)"
      ],
      "metadata": {
        "colab": {
          "base_uri": "https://localhost:8080/",
          "height": 37
        },
        "id": "gmnl84Ix21gZ",
        "outputId": "3881dcf6-a913-493b-cb98-89ffcc97dbe5"
      },
      "execution_count": 30,
      "outputs": [
        {
          "output_type": "execute_result",
          "data": {
            "text/plain": [
              "∅"
            ],
            "text/latex": "$\\displaystyle \\emptyset$"
          },
          "metadata": {},
          "execution_count": 30
        }
      ]
    },
    {
      "cell_type": "code",
      "source": [
        "sym.solveset(x**3 + 2 , domain=sym.S.Reals)"
      ],
      "metadata": {
        "colab": {
          "base_uri": "https://localhost:8080/",
          "height": 47
        },
        "id": "3Vvks3Rd3T7E",
        "outputId": "439aaab3-4700-42fd-ae35-6e3418a810cc"
      },
      "execution_count": 31,
      "outputs": [
        {
          "output_type": "execute_result",
          "data": {
            "text/plain": [
              "⎧ 3 ___⎫\n",
              "⎨-╲╱ 2 ⎬\n",
              "⎩      ⎭"
            ],
            "text/latex": "$\\displaystyle \\left\\{- \\sqrt[3]{2}\\right\\}$"
          },
          "metadata": {},
          "execution_count": 31
        }
      ]
    },
    {
      "cell_type": "markdown",
      "metadata": {
        "id": "EugqmesOpbTE"
      },
      "source": [
        "## Символьное исчисление\n",
        "\n",
        "`Sympy` также используют для вычисления пределов. Давайте посчитаем:\n",
        "\n",
        "$$\\lim_{x\\to 0^+}\\frac{1}{x}$$"
      ]
    },
    {
      "cell_type": "code",
      "execution_count": 32,
      "metadata": {
        "id": "d8l0lFp1pbTE",
        "colab": {
          "base_uri": "https://localhost:8080/",
          "height": 37
        },
        "outputId": "ca64ae62-0931-45e8-9853-d322da41a941"
      },
      "outputs": [
        {
          "output_type": "execute_result",
          "data": {
            "text/plain": [
              "∞"
            ],
            "text/latex": "$\\displaystyle \\infty$"
          },
          "metadata": {},
          "execution_count": 32
        }
      ],
      "source": [
        "sym.limit(1/x, x, 0, dir=\"+\")"
      ]
    },
    {
      "cell_type": "markdown",
      "metadata": {
        "id": "XP_z2t2HpbTE"
      },
      "source": [
        "---\n",
        "**УПРАЖНЕНИЕ 4** Рассчитайте следующие пределы:\n",
        "\n",
        "1. $\\lim_{x\\to 0^-}\\frac{1}{x}$\n",
        "2.  $\\lim_{x\\to 0}\\frac{1}{x^2}$\n",
        "\n",
        "---"
      ]
    },
    {
      "cell_type": "code",
      "source": [
        "sym.limit(1/x,x,0,dir=\"-\")"
      ],
      "metadata": {
        "colab": {
          "base_uri": "https://localhost:8080/",
          "height": 37
        },
        "id": "WLe0SWjw3rRI",
        "outputId": "f03fc7b7-b3e9-46f2-d290-e284dfe88188"
      },
      "execution_count": 34,
      "outputs": [
        {
          "output_type": "execute_result",
          "data": {
            "text/plain": [
              "-∞"
            ],
            "text/latex": "$\\displaystyle -\\infty$"
          },
          "metadata": {},
          "execution_count": 34
        }
      ]
    },
    {
      "cell_type": "code",
      "source": [
        "sym.limit(1/x**2,x,0,dir='+')"
      ],
      "metadata": {
        "colab": {
          "base_uri": "https://localhost:8080/",
          "height": 37
        },
        "id": "36S0N47P36ZB",
        "outputId": "74819db3-0eba-43fe-d812-0127cb005c2c"
      },
      "execution_count": 35,
      "outputs": [
        {
          "output_type": "execute_result",
          "data": {
            "text/plain": [
              "∞"
            ],
            "text/latex": "$\\displaystyle \\infty$"
          },
          "metadata": {},
          "execution_count": 35
        }
      ]
    },
    {
      "cell_type": "markdown",
      "metadata": {
        "id": "FZhvlS-ppbTE"
      },
      "source": [
        "Можно использовать `Sympy` для дифференцирования и интегрирования.Продифференцируем следующее выражения:\n",
        "\n",
        "\n",
        "$$x ^ 2 - \\cos(x)$$"
      ]
    },
    {
      "cell_type": "code",
      "execution_count": 36,
      "metadata": {
        "id": "WIrkYMIxpbTE",
        "colab": {
          "base_uri": "https://localhost:8080/",
          "height": 39
        },
        "outputId": "8792f0df-a7e7-4920-9eff-d99d451232ae"
      },
      "outputs": [
        {
          "output_type": "execute_result",
          "data": {
            "text/plain": [
              "2⋅x + sin(x)"
            ],
            "text/latex": "$\\displaystyle 2 x + \\sin{\\left(x \\right)}$"
          },
          "metadata": {},
          "execution_count": 36
        }
      ],
      "source": [
        "sym.diff(x ** 2 - sym.cos(x), x)"
      ]
    },
    {
      "cell_type": "markdown",
      "metadata": {
        "id": "qzLBdGHEpbTE"
      },
      "source": [
        "Аналогично можно интегрировать:"
      ]
    },
    {
      "cell_type": "code",
      "execution_count": 37,
      "metadata": {
        "id": "Hx3OOuSOpbTE",
        "colab": {
          "base_uri": "https://localhost:8080/",
          "height": 54
        },
        "outputId": "f6afc59e-7ecb-43ac-d34c-0da4995d6dbf"
      },
      "outputs": [
        {
          "output_type": "execute_result",
          "data": {
            "text/plain": [
              " 3         \n",
              "x          \n",
              "── - sin(x)\n",
              "3          "
            ],
            "text/latex": "$\\displaystyle \\frac{x^{3}}{3} - \\sin{\\left(x \\right)}$"
          },
          "metadata": {},
          "execution_count": 37
        }
      ],
      "source": [
        "sym.integrate(x ** 2 - sym.cos(x), x)"
      ]
    },
    {
      "cell_type": "markdown",
      "metadata": {
        "id": "g_B9lbFjpbTF"
      },
      "source": [
        "Включена возможность расчета определенных интегралов:"
      ]
    },
    {
      "cell_type": "code",
      "execution_count": 38,
      "metadata": {
        "id": "PazFpwn4pbTF",
        "colab": {
          "base_uri": "https://localhost:8080/",
          "height": 51
        },
        "outputId": "679720ec-ccc8-434c-fef1-b4ce4e1f5a77"
      },
      "outputs": [
        {
          "output_type": "execute_result",
          "data": {
            "text/plain": [
              "125/3 - sin(5)"
            ],
            "text/latex": "$\\displaystyle \\frac{125}{3} - \\sin{\\left(5 \\right)}$"
          },
          "metadata": {},
          "execution_count": 38
        }
      ],
      "source": [
        "sym.integrate(x ** 2 - sym.cos(x), (x, 0, 5))"
      ]
    },
    {
      "cell_type": "markdown",
      "metadata": {
        "id": "TQ_fuWDkpbTF"
      },
      "source": [
        "---\n",
        "\n",
        "**УПРАЖНЕНИЕ 5** Используйте Sympy, чтобы рассчитать следующие выражения:\n",
        "\n",
        "1. $\\frac{d\\sin(x ^2)}{dx}$\n",
        "2. $\\frac{d(x ^2 + xy - \\ln(y))}{dy}$\n",
        "3. $\\int e^x \\cos(x)\\;dx$\n",
        "4. $\\int_0^5 e^{2x}\\;dx$"
      ]
    },
    {
      "cell_type": "code",
      "source": [
        "x, y = sym.symbols('x,y')"
      ],
      "metadata": {
        "id": "0qLNEjWr4QHI"
      },
      "execution_count": 40,
      "outputs": []
    },
    {
      "cell_type": "code",
      "source": [
        "sym.diff(sym.sin(x**2),x)"
      ],
      "metadata": {
        "colab": {
          "base_uri": "https://localhost:8080/",
          "height": 39
        },
        "id": "LRaLfOLf4dVv",
        "outputId": "4e46f616-e004-4ab7-e3fd-f11a7d46b3fd"
      },
      "execution_count": 42,
      "outputs": [
        {
          "output_type": "execute_result",
          "data": {
            "text/plain": [
              "       ⎛ 2⎞\n",
              "2⋅x⋅cos⎝x ⎠"
            ],
            "text/latex": "$\\displaystyle 2 x \\cos{\\left(x^{2} \\right)}$"
          },
          "metadata": {},
          "execution_count": 42
        }
      ]
    },
    {
      "cell_type": "code",
      "source": [
        "sym.diff(x**2+x*y+sym.ln(y),y)"
      ],
      "metadata": {
        "colab": {
          "base_uri": "https://localhost:8080/",
          "height": 54
        },
        "id": "TtTxygrG4xrF",
        "outputId": "6ed0a3bb-07a1-4010-bb0b-52292deb0044"
      },
      "execution_count": 44,
      "outputs": [
        {
          "output_type": "execute_result",
          "data": {
            "text/plain": [
              "    1\n",
              "x + ─\n",
              "    y"
            ],
            "text/latex": "$\\displaystyle x + \\frac{1}{y}$"
          },
          "metadata": {},
          "execution_count": 44
        }
      ]
    },
    {
      "cell_type": "code",
      "source": [
        "sym.diff(x**2+x*y+sym.ln(y),x)"
      ],
      "metadata": {
        "colab": {
          "base_uri": "https://localhost:8080/",
          "height": 39
        },
        "id": "HefXlfVp4-rK",
        "outputId": "63bda27e-841b-42c8-c9c6-0e1004acc9db"
      },
      "execution_count": 45,
      "outputs": [
        {
          "output_type": "execute_result",
          "data": {
            "text/plain": [
              "2⋅x + y"
            ],
            "text/latex": "$\\displaystyle 2 x + y$"
          },
          "metadata": {},
          "execution_count": 45
        }
      ]
    },
    {
      "cell_type": "code",
      "source": [
        "sym.integrate(sym.exp(x)*sym.cos(x))"
      ],
      "metadata": {
        "colab": {
          "base_uri": "https://localhost:8080/",
          "height": 53
        },
        "id": "GCOKd4kZ5G-j",
        "outputId": "2339583c-960c-4516-a29f-6df3b8ea4c96"
      },
      "execution_count": 47,
      "outputs": [
        {
          "output_type": "execute_result",
          "data": {
            "text/plain": [
              " x           x       \n",
              "ℯ ⋅sin(x)   ℯ ⋅cos(x)\n",
              "───────── + ─────────\n",
              "    2           2    "
            ],
            "text/latex": "$\\displaystyle \\frac{e^{x} \\sin{\\left(x \\right)}}{2} + \\frac{e^{x} \\cos{\\left(x \\right)}}{2}$"
          },
          "metadata": {},
          "execution_count": 47
        }
      ]
    },
    {
      "cell_type": "code",
      "source": [
        "sym.integrate(sym.exp(2*x),(x,0,5))"
      ],
      "metadata": {
        "colab": {
          "base_uri": "https://localhost:8080/",
          "height": 54
        },
        "id": "rZMKkx-B5h3T",
        "outputId": "bfce0f84-5557-43fb-d590-fdb408b40ccd"
      },
      "execution_count": 48,
      "outputs": [
        {
          "output_type": "execute_result",
          "data": {
            "text/plain": [
              "       10\n",
              "  1   ℯ  \n",
              "- ─ + ───\n",
              "  2    2 "
            ],
            "text/latex": "$\\displaystyle - \\frac{1}{2} + \\frac{e^{10}}{2}$"
          },
          "metadata": {},
          "execution_count": 48
        }
      ]
    },
    {
      "cell_type": "markdown",
      "metadata": {
        "id": "TDANPQNEpbTF"
      },
      "source": [
        "## Построение графика с помощью Sympy\n",
        "\n",
        "Наконец, `Sympy` можно использовать для построения графиков функций. Обратите внимание, что здесь используется другая библиотека Python под названием [matplotlib](http://matplotlib.org/). Хотя `Sympy` позволяет  не использовать `matplotlib`` напрямую, порой, требуется пользоваться данной библиотекой для более детального построения.\n",
        "\n",
        "Прежде чем рисовать графики в `Jupyter`, требуется запустить команду, чтобы он отображал графики прямо в блокноте:"
      ]
    },
    {
      "cell_type": "code",
      "execution_count": 49,
      "metadata": {
        "id": "ezoJ8mVWpbTI"
      },
      "outputs": [],
      "source": [
        "%matplotlib inline"
      ]
    },
    {
      "cell_type": "markdown",
      "metadata": {
        "id": "mtbJaonxpbTI"
      },
      "source": [
        "Let us plot $x^2$:"
      ]
    },
    {
      "cell_type": "code",
      "execution_count": 50,
      "metadata": {
        "tags": [
          "nbval-ignore-output"
        ],
        "id": "mRCK1EcCpbTJ",
        "colab": {
          "base_uri": "https://localhost:8080/",
          "height": 484
        },
        "outputId": "0a948d1f-81ef-431a-c723-662a89f4ecdc"
      },
      "outputs": [
        {
          "output_type": "display_data",
          "data": {
            "text/plain": [
              "<Figure size 640x480 with 1 Axes>"
            ],
            "image/png": "[encoded data removed]"
          },
          "metadata": {}
        }
      ],
      "source": [
        "expr = x ** 2\n",
        "p = sym.plot(expr);"
      ]
    },
    {
      "cell_type": "markdown",
      "metadata": {
        "id": "Kky2EOEEpbTJ"
      },
      "source": [
        "Можно напрямую сохранить этот график в файл:"
      ]
    },
    {
      "cell_type": "code",
      "execution_count": 51,
      "metadata": {
        "tags": [
          "nbval-ignore-output"
        ],
        "id": "tIUtfkvppbTJ",
        "colab": {
          "base_uri": "https://localhost:8080/",
          "height": 433
        },
        "outputId": "09cfe16d-e462-4ded-f172-7a2c5924fe5f"
      },
      "outputs": [
        {
          "output_type": "display_data",
          "data": {
            "text/plain": [
              "<Figure size 640x480 with 1 Axes>"
            ],
            "image/png": "[encoded data removed]"
          },
          "metadata": {}
        }
      ],
      "source": [
        "p.save(\"x_squared.pdf\");"
      ]
    },
    {
      "cell_type": "markdown",
      "metadata": {
        "id": "D5mv8sDXpbTJ"
      },
      "source": [
        "---\n",
        "**УПРАЖНЕНИЕ 6** Постройте графики следующих функций:\n",
        "\n",
        "- $y=x + cos(x)$\n",
        "- $y=x ^ 2 - e^x$ (вам может пригодиться `ylim` в качестве аргумента)\n",
        "\n",
        "Поэкспериментируйте с сохранением графиков в файл.."
      ]
    },
    {
      "cell_type": "code",
      "source": [
        "expr = sym.cos(x) + x\n",
        "t = sym.plot(expr);"
      ],
      "metadata": {
        "colab": {
          "base_uri": "https://localhost:8080/",
          "height": 486
        },
        "id": "AMjopdDS57No",
        "outputId": "659703d8-a8a6-483d-a00c-6637d300375d"
      },
      "execution_count": 58,
      "outputs": [
        {
          "output_type": "display_data",
          "data": {
            "text/plain": [
              "<Figure size 640x480 with 1 Axes>"
            ],
            "image/png": "[encoded data removed]"
          },
          "metadata": {}
        }
      ]
    },
    {
      "cell_type": "code",
      "source": [
        "t.save(\"x_cos.pdf\");"
      ],
      "metadata": {
        "colab": {
          "base_uri": "https://localhost:8080/",
          "height": 409
        },
        "id": "OA0AKa_w6qTh",
        "outputId": "1aada042-7d0e-452b-d652-4dd8565cb318"
      },
      "execution_count": 59,
      "outputs": [
        {
          "output_type": "display_data",
          "data": {
            "text/plain": [
              "<Figure size 640x480 with 1 Axes>"
            ],
            "image/png": "[encoded data removed]"
          },
          "metadata": {}
        }
      ]
    },
    {
      "cell_type": "code",
      "source": [
        "expr = x **2 - sym.exp(x)\n",
        "r = sym.plot(expr);"
      ],
      "metadata": {
        "colab": {
          "base_uri": "https://localhost:8080/",
          "height": 487
        },
        "id": "k9yIv7Jd6Yiv",
        "outputId": "d3c5fc7c-5108-475a-ddfe-10aa3ca07c90"
      },
      "execution_count": 60,
      "outputs": [
        {
          "output_type": "display_data",
          "data": {
            "text/plain": [
              "<Figure size 640x480 with 1 Axes>"
            ],
            "image/png": "[encoded data removed]"
          },
          "metadata": {}
        }
      ]
    },
    {
      "cell_type": "code",
      "source": [
        "r.save(\"x_cos.pdf\");"
      ],
      "metadata": {
        "colab": {
          "base_uri": "https://localhost:8080/",
          "height": 406
        },
        "id": "aO-84lx97TdC",
        "outputId": "dbd55ff4-6b15-45fc-e526-d99a9a655942"
      },
      "execution_count": 62,
      "outputs": [
        {
          "output_type": "display_data",
          "data": {
            "text/plain": [
              "<Figure size 640x480 with 1 Axes>"
            ],
            "image/png": "[encoded data removed]"
          },
          "metadata": {}
        }
      ]
    }
  ],
  "metadata": {
    "anaconda-cloud": {},
    "celltoolbar": "Tags",
    "kernelspec": {
      "display_name": "Python [conda env:mwp]",
      "language": "python",
      "name": "conda-env-mwp-py"
    },
    "language_info": {
      "codemirror_mode": {
        "name": "ipython",
        "version": 3
      },
      "file_extension": ".py",
      "mimetype": "text/x-python",
      "name": "python",
      "nbconvert_exporter": "python",
      "pygments_lexer": "ipython3",
      "version": "3.7.0"
    },
    "colab": {
      "provenance": [],
      "include_colab_link": true
    }
  },
  "nbformat": 4,
  "nbformat_minor": 0
}